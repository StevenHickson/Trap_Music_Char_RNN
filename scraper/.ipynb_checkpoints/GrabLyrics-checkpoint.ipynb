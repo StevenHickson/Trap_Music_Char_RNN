{
 "cells": [
  {
   "cell_type": "code",
   "execution_count": 68,
   "metadata": {
    "collapsed": false
   },
   "outputs": [],
   "source": [
    "from grab import Grab\n",
    "import sys\n",
    "from bs4 import BeautifulSoup, NavigableString, Tag\n",
    "import os"
   ]
  },
  {
   "cell_type": "code",
   "execution_count": 2,
   "metadata": {
    "collapsed": true
   },
   "outputs": [],
   "source": [
    "g = Grab()"
   ]
  },
  {
   "cell_type": "code",
   "execution_count": 3,
   "metadata": {
    "collapsed": false
   },
   "outputs": [],
   "source": [
    "top = 'http://www.azlyrics.com/g/'\n",
    "g.go(top + 'guccimane.html')\n",
    "i = 0\n",
    "lyrics = []\n",
    "for elem in g.doc.select('//div/div/a'):\n",
    "    if elem.text() and i > 3:\n",
    "        #print '%s' % (elem.attr('href'))\n",
    "        lyrics.append((elem.attr('href')))\n",
    "    i = i + 1"
   ]
  },
  {
   "cell_type": "code",
   "execution_count": 5,
   "metadata": {
    "collapsed": false
   },
   "outputs": [
    {
     "name": "stdout",
     "output_type": "stream",
     "text": [
      "<selection.backend.XpathSelector object at 0x7fe1aee9e520>\n"
     ]
    }
   ],
   "source": [
    "#print lyrics\n",
    "#print len(lyrics)"
   ]
  },
  {
   "cell_type": "code",
   "execution_count": 57,
   "metadata": {
    "collapsed": false
   },
   "outputs": [
    {
     "name": "stdout",
     "output_type": "stream",
     "text": [
      "\n",
      "\n",
      "[Gucci Mane:] Yea mutherfucker we got big cat in this mutherfucker laflare nigga guccie mane The mutherfuckin gotto nigga its a wrap then the whole industry we got this shit in the fuckin Head lock [Big Cat:] Yea guccie we fuckin this niggas up [Gucci Mane:] Cat we doin more than fuckin this niggas up we fuckin this niggas hoes we got More ice than this niggas we got mo money than this niggas we independent we making major Niggas tuck they chain in haaa haaa haa [Big Cat:] I love it make this fuck niggas tuck they chain in gucci you know how we do baby [Gucci Mane:] I want to tell you ahhh my nigga just bought me a jacob right that bitch cost bout 60 right that bitch got yellow blue in green stones in it yall bitches get yall weight up out there\n",
      "\n"
     ]
    }
   ],
   "source": [
    "g.go(top + lyrics[0])\n",
    "valid = 0\n",
    "for elem in g.doc.select('//div/div/div/div'):\n",
    "    if elem.text() == 'Submit Corrections':\n",
    "        valid = 0\n",
    "    if valid == 1:\n",
    "        html = elem.html()\n",
    "        print '%s\\n' % (elem.text())\n",
    "    if elem.text() == 'GUCCI MANE LYRICS':\n",
    "        valid = 1\n",
    "        "
   ]
  },
  {
   "cell_type": "markdown",
   "metadata": {
    "collapsed": true
   },
   "source": [
    "Now let's try it in BeautifulSoup to get the line breaks"
   ]
  },
  {
   "cell_type": "code",
   "execution_count": 58,
   "metadata": {
    "collapsed": true
   },
   "outputs": [],
   "source": [
    "def strip_tags(html, invalid_tags):\n",
    "    soup = BeautifulSoup(html)\n",
    "\n",
    "    for tag in soup.findAll(True):\n",
    "        if tag.name in invalid_tags:\n",
    "            s = \"\"\n",
    "\n",
    "            for c in tag.contents:\n",
    "                if not isinstance(c, NavigableString):\n",
    "                    c = strip_tags(unicode(c), invalid_tags)\n",
    "                s += unicode(c)\n",
    "\n",
    "            tag.replaceWith(s)\n",
    "\n",
    "    return soup"
   ]
  },
  {
   "cell_type": "code",
   "execution_count": 69,
   "metadata": {
    "collapsed": false
   },
   "outputs": [
    {
     "name": "stdout",
     "output_type": "stream",
     "text": [
      "\n",
      "\n",
      "[Gucci Mane:]\r\n",
      "Yea mutherfucker we got big cat in this mutherfucker laflare nigga guccie mane\r\n",
      "The mutherfuckin gotto nigga its a wrap then the whole industry we got this shit in the fuckin\r\n",
      "Head lock \n",
      "\n",
      "[Big Cat:]\r\n",
      "Yea guccie we fuckin this niggas up\n",
      "\n",
      "[Gucci Mane:]\r\n",
      "Cat we doin more than fuckin this niggas up we fuckin this niggas hoes we got\r\n",
      "More ice than this niggas we got mo money than this niggas we independent we making major\r\n",
      "Niggas tuck they chain in haaa haaa haa \n",
      "\n",
      "[Big Cat:]\r\n",
      "I love it make this fuck niggas tuck they chain in gucci you know how we do baby\n",
      "\n",
      "[Gucci Mane:]\r\n",
      "I want to tell you ahhh my nigga just bought me a jacob right that bitch cost bout \r\n",
      "60 right that bitch got yellow blue in green stones in it yall bitches get yall weight up out there\n",
      "\n",
      "\n"
     ]
    }
   ],
   "source": [
    "soup = strip_tags(html,['i'])\n",
    "print soup.get_text()\n",
    "f = open('lyrics.txt', 'wb')\n",
    "f.write(soup.get_text().replace('\\r\\n', os.linesep))\n",
    "f.close()\n",
    "#for br in soup.findAll('br'):\n",
    "#    next = br.nextSibling\n",
    "    #if not (next and isinstance(next,NavigableString)):\n",
    "    #    continue\n",
    "    #next2 = next.nextSibling\n",
    "    #if next2 and isinstance(next2,Tag):\n",
    "#    text = str(next).strip()\n",
    "#    if text:\n",
    "#        print next"
   ]
  },
  {
   "cell_type": "code",
   "execution_count": 71,
   "metadata": {
    "collapsed": false
   },
   "outputs": [
    {
     "ename": "GrabNetworkError",
     "evalue": "[Errno 52] Empty reply from server",
     "output_type": "error",
     "traceback": [
      "\u001b[1;31m---------------------------------------------------------------------------\u001b[0m",
      "\u001b[1;31mGrabNetworkError\u001b[0m                          Traceback (most recent call last)",
      "\u001b[1;32m<ipython-input-71-c258ecf2a188>\u001b[0m in \u001b[0;36m<module>\u001b[1;34m()\u001b[0m\n\u001b[0;32m      1\u001b[0m \u001b[0mf\u001b[0m \u001b[1;33m=\u001b[0m \u001b[0mopen\u001b[0m\u001b[1;33m(\u001b[0m\u001b[1;34m'lyrics.txt'\u001b[0m\u001b[1;33m,\u001b[0m \u001b[1;34m'ab'\u001b[0m\u001b[1;33m)\u001b[0m\u001b[1;33m\u001b[0m\u001b[0m\n\u001b[0;32m      2\u001b[0m \u001b[1;32mfor\u001b[0m \u001b[0msong\u001b[0m \u001b[1;32min\u001b[0m \u001b[0mlyrics\u001b[0m\u001b[1;33m:\u001b[0m\u001b[1;33m\u001b[0m\u001b[0m\n\u001b[1;32m----> 3\u001b[1;33m     \u001b[0mg\u001b[0m\u001b[1;33m.\u001b[0m\u001b[0mgo\u001b[0m\u001b[1;33m(\u001b[0m\u001b[0mtop\u001b[0m \u001b[1;33m+\u001b[0m \u001b[0msong\u001b[0m\u001b[1;33m)\u001b[0m\u001b[1;33m\u001b[0m\u001b[0m\n\u001b[0m\u001b[0;32m      4\u001b[0m     \u001b[0mvalid\u001b[0m \u001b[1;33m=\u001b[0m \u001b[1;36m0\u001b[0m\u001b[1;33m\u001b[0m\u001b[0m\n\u001b[0;32m      5\u001b[0m     \u001b[1;32mfor\u001b[0m \u001b[0melem\u001b[0m \u001b[1;32min\u001b[0m \u001b[0mg\u001b[0m\u001b[1;33m.\u001b[0m\u001b[0mdoc\u001b[0m\u001b[1;33m.\u001b[0m\u001b[0mselect\u001b[0m\u001b[1;33m(\u001b[0m\u001b[1;34m'//div/div/div/div'\u001b[0m\u001b[1;33m)\u001b[0m\u001b[1;33m:\u001b[0m\u001b[1;33m\u001b[0m\u001b[0m\n",
      "\u001b[1;32m/usr/local/lib/python2.7/dist-packages/grab/base.pyc\u001b[0m in \u001b[0;36mgo\u001b[1;34m(self, url, **kwargs)\u001b[0m\n\u001b[0;32m    375\u001b[0m         \"\"\"\n\u001b[0;32m    376\u001b[0m \u001b[1;33m\u001b[0m\u001b[0m\n\u001b[1;32m--> 377\u001b[1;33m         \u001b[1;32mreturn\u001b[0m \u001b[0mself\u001b[0m\u001b[1;33m.\u001b[0m\u001b[0mrequest\u001b[0m\u001b[1;33m(\u001b[0m\u001b[0murl\u001b[0m\u001b[1;33m=\u001b[0m\u001b[0murl\u001b[0m\u001b[1;33m,\u001b[0m \u001b[1;33m**\u001b[0m\u001b[0mkwargs\u001b[0m\u001b[1;33m)\u001b[0m\u001b[1;33m\u001b[0m\u001b[0m\n\u001b[0m\u001b[0;32m    378\u001b[0m \u001b[1;33m\u001b[0m\u001b[0m\n\u001b[0;32m    379\u001b[0m     \u001b[1;32mdef\u001b[0m \u001b[0mdownload\u001b[0m\u001b[1;33m(\u001b[0m\u001b[0mself\u001b[0m\u001b[1;33m,\u001b[0m \u001b[0murl\u001b[0m\u001b[1;33m,\u001b[0m \u001b[0mlocation\u001b[0m\u001b[1;33m,\u001b[0m \u001b[1;33m**\u001b[0m\u001b[0mkwargs\u001b[0m\u001b[1;33m)\u001b[0m\u001b[1;33m:\u001b[0m\u001b[1;33m\u001b[0m\u001b[0m\n",
      "\u001b[1;32m/usr/local/lib/python2.7/dist-packages/grab/base.pyc\u001b[0m in \u001b[0;36mrequest\u001b[1;34m(self, **kwargs)\u001b[0m\n\u001b[0;32m    448\u001b[0m \u001b[1;33m\u001b[0m\u001b[0m\n\u001b[0;32m    449\u001b[0m             \u001b[1;32mtry\u001b[0m\u001b[1;33m:\u001b[0m\u001b[1;33m\u001b[0m\u001b[0m\n\u001b[1;32m--> 450\u001b[1;33m                 \u001b[0mself\u001b[0m\u001b[1;33m.\u001b[0m\u001b[0mtransport\u001b[0m\u001b[1;33m.\u001b[0m\u001b[0mrequest\u001b[0m\u001b[1;33m(\u001b[0m\u001b[1;33m)\u001b[0m\u001b[1;33m\u001b[0m\u001b[0m\n\u001b[0m\u001b[0;32m    451\u001b[0m             \u001b[1;32mexcept\u001b[0m \u001b[0merror\u001b[0m\u001b[1;33m.\u001b[0m\u001b[0mGrabError\u001b[0m\u001b[1;33m:\u001b[0m\u001b[1;33m\u001b[0m\u001b[0m\n\u001b[0;32m    452\u001b[0m                 \u001b[0mself\u001b[0m\u001b[1;33m.\u001b[0m\u001b[0mreset_temporary_options\u001b[0m\u001b[1;33m(\u001b[0m\u001b[1;33m)\u001b[0m\u001b[1;33m\u001b[0m\u001b[0m\n",
      "\u001b[1;32m/usr/local/lib/python2.7/dist-packages/grab/transport/curl.pyc\u001b[0m in \u001b[0;36mrequest\u001b[1;34m(self)\u001b[0m\n\u001b[0;32m    499\u001b[0m                                                              ex.args[1])\n\u001b[0;32m    500\u001b[0m                 \u001b[1;32melse\u001b[0m\u001b[1;33m:\u001b[0m\u001b[1;33m\u001b[0m\u001b[0m\n\u001b[1;32m--> 501\u001b[1;33m                     \u001b[1;32mraise\u001b[0m \u001b[0merror\u001b[0m\u001b[1;33m.\u001b[0m\u001b[0mGrabNetworkError\u001b[0m\u001b[1;33m(\u001b[0m\u001b[0mex\u001b[0m\u001b[1;33m.\u001b[0m\u001b[0margs\u001b[0m\u001b[1;33m[\u001b[0m\u001b[1;36m0\u001b[0m\u001b[1;33m]\u001b[0m\u001b[1;33m,\u001b[0m \u001b[0mex\u001b[0m\u001b[1;33m.\u001b[0m\u001b[0margs\u001b[0m\u001b[1;33m[\u001b[0m\u001b[1;36m1\u001b[0m\u001b[1;33m]\u001b[0m\u001b[1;33m)\u001b[0m\u001b[1;33m\u001b[0m\u001b[0m\n\u001b[0m\u001b[0;32m    502\u001b[0m         \u001b[1;32mexcept\u001b[0m \u001b[0mException\u001b[0m \u001b[1;32mas\u001b[0m \u001b[0mex\u001b[0m\u001b[1;33m:\u001b[0m\u001b[1;33m\u001b[0m\u001b[0m\n\u001b[0;32m    503\u001b[0m             six.reraise(error.GrabInternalError, error.GrabInternalError(ex),\n",
      "\u001b[1;31mGrabNetworkError\u001b[0m: [Errno 52] Empty reply from server"
     ]
    }
   ],
   "source": [
    "f = open('lyrics.txt', 'ab')\n",
    "for song in lyrics:\n",
    "    worked = 0\n",
    "    while worked == 0:\n",
    "        try:\n",
    "            g.go(top + song)\n",
    "            worked = 1\n",
    "        except:\n",
    "            print \"Unexpected error:\", sys.exc_info()[0]\n",
    "            \n",
    "    valid = 0\n",
    "    for elem in g.doc.select('//div/div/div/div'):\n",
    "        if elem.text() == 'Submit Corrections':\n",
    "            valid = 0\n",
    "        if valid == 1:\n",
    "            html = elem.html()\n",
    "            #print '%s\\n' % (elem.text())\n",
    "        if elem.text() == 'GUCCI MANE LYRICS':\n",
    "            valid = 1\n",
    "    \n",
    "    soup = strip_tags(html,['i'])\n",
    "    #print soup.get_text()\n",
    "    f.write(soup.get_text().encode('ascii', 'ignore').replace('\\r\\n', os.linesep))\n",
    "\n",
    "f.close()"
   ]
  },
  {
   "cell_type": "code",
   "execution_count": null,
   "metadata": {
    "collapsed": true
   },
   "outputs": [],
   "source": []
  }
 ],
 "metadata": {
  "kernelspec": {
   "display_name": "Python 2",
   "language": "python",
   "name": "python2"
  },
  "language_info": {
   "codemirror_mode": {
    "name": "ipython",
    "version": 2
   },
   "file_extension": ".py",
   "mimetype": "text/x-python",
   "name": "python",
   "nbconvert_exporter": "python",
   "pygments_lexer": "ipython2",
   "version": "2.7.6"
  }
 },
 "nbformat": 4,
 "nbformat_minor": 0
}
